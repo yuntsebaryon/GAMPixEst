{
 "cells": [
  {
   "cell_type": "markdown",
   "id": "9c5a8cdf",
   "metadata": {},
   "source": [
    "## Supernova Neutrinos: 2024.1.10-2.2"
   ]
  },
  {
   "cell_type": "markdown",
   "id": "87832cce",
   "metadata": {},
   "source": [
    "- Cavern backgrounds (Reichenbacher, NPN 2023, https://indico.slac.stanford.edu/event/7400/contributions/6432/attachments/3156/8655/Backgrounds_SNBnuDetection_CCSNe_workshop_NPN_SLAC_12July2023_JR.pdf), which will extend up to 2.6 MeV.\n",
    "    - Dominated by cavern gammas\n",
    "    - Cavern gammas: 1.0510/cm^2s at LAr (slide 22)\n",
    "- Check the density of the \"blips\"? and the energy distribution - see how easily the three planes of strips can match them correctly, see how confusing they are with the gamma background (starting with the dominant background)\n",
    "- DUNE FD vertical drift (VD) module, or module 2: Refer to the TDR:\n",
    "    - Dimemsion:\n",
    "        - Active volume: 60.0 × 13.5 × 13.0 m^3 ~ 15 kton\n",
    "        \n",
    "    - Charge readout: (Table 3.3 in TDR)\n",
    "        - Charge readout unit dimension: 3mx1.7m (two readout electronics, so the strip length should be referred to the strip length dimension below)\n",
    "        - Two induction planes, one collection plane\n",
    "        - Strip length: up to 1.74m (induction), 1.68m (collection)\n",
    "        - Strip pitch: 7.65mm (induction), 5.1mm (collection)\n",
    "        - Strip gap: 0.5mm\n",
    "        - Total capacitance: up to 177pF (induction), 135pF (collection)\n",
    "        - Sampling rate: ~2MHz\n",
    "    - TPC: (5.1)\n",
    "        - Maximum drift distance: 6.5m\n",
    "        - Nominal E field: 450V/cm\n",
    "        - Using E field = 500V/cm, drift velocity = 1.6 mm/µs => maximum drift time = 4.06 ms\n",
    "    - LAr properties\n",
    "        - e lifetime: many tens of ms (2-3 ms at least)"
   ]
  },
  {
   "cell_type": "code",
   "execution_count": 1,
   "id": "f3fff4a6",
   "metadata": {},
   "outputs": [],
   "source": [
    "# Parameters\n",
    "# Maximum drift distance (m)\n",
    "max_d = 6.5\n",
    "# Drift velocity (mm/µs)\n",
    "drift_v = 1.6\n",
    "# Maximum drift time (ms)\n",
    "max_drift_time = max_d/drift_v\n",
    "# Collection strip length (cm)\n",
    "l_col = 168\n",
    "# Collection strip pitch (cm)\n",
    "pitch_col = 0.51\n",
    "# Induction strip length (cm)\n",
    "l_ind = 174\n",
    "# Induction strip pitch (cm)\n",
    "pitch_ind = 0.765\n",
    "# Charge readout sampling duration (s)\n",
    "tick = 1./2e6\n",
    "# Length of the detector (cm)\n",
    "l = 6000\n",
    "# Width of the detector (cm)\n",
    "w = 1350\n",
    "# Density of LAr (g/cm^3)\n",
    "densityLAr = 1.39"
   ]
  },
  {
   "cell_type": "code",
   "execution_count": 2,
   "id": "598013a9",
   "metadata": {},
   "outputs": [],
   "source": [
    "# Background rate\n",
    "# Cavern gamma rays in the cryostat (/cm^2s)\n",
    "cavern_gamma = 1.05"
   ]
  },
  {
   "cell_type": "code",
   "execution_count": 3,
   "id": "ee47dfe3",
   "metadata": {},
   "outputs": [
    {
     "data": {
      "text/plain": [
       "4.0625"
      ]
     },
     "execution_count": 3,
     "metadata": {},
     "output_type": "execute_result"
    }
   ],
   "source": [
    "# maximum drift time (ms)\n",
    "max_drift_time"
   ]
  },
  {
   "cell_type": "code",
   "execution_count": 4,
   "id": "63f0773f",
   "metadata": {},
   "outputs": [
    {
     "data": {
      "text/plain": [
       "8.996400000000001"
      ]
     },
     "execution_count": 4,
     "metadata": {},
     "output_type": "execute_result"
    }
   ],
   "source": [
    "# Numbers of gamma rays per collection strip per 0.1s\n",
    "l_col*pitch_col*cavern_gamma*0.1"
   ]
  },
  {
   "cell_type": "code",
   "execution_count": 5,
   "id": "73ce61e4",
   "metadata": {},
   "outputs": [
    {
     "data": {
      "text/plain": [
       "0.3654787500000001"
      ]
     },
     "execution_count": 5,
     "metadata": {},
     "output_type": "execute_result"
    }
   ],
   "source": [
    "# Numbers of gamma rays per collection strip per drift time\n",
    "l_col*pitch_col*cavern_gamma*max_drift_time*0.001"
   ]
  },
  {
   "cell_type": "code",
   "execution_count": 6,
   "id": "9879f8ce",
   "metadata": {},
   "outputs": [
    {
     "data": {
      "text/plain": [
       "0.0009237375000000002"
      ]
     },
     "execution_count": 6,
     "metadata": {},
     "output_type": "execute_result"
    }
   ],
   "source": [
    "# Number of gamma rays in the areas where the strips in the three planes span over per 5 sampling ticks (=2.5µs)\n",
    "# 5 sampling ticks are the scale used to match the hits in the different planes\n",
    "(l_col*pitch_col+2*l_ind*pitch_ind)*cavern_gamma*tick*5"
   ]
  },
  {
   "cell_type": "code",
   "execution_count": 7,
   "id": "31f29452",
   "metadata": {},
   "outputs": [
    {
     "data": {
      "text/plain": [
       "34551.5625"
      ]
     },
     "execution_count": 7,
     "metadata": {},
     "output_type": "execute_result"
    }
   ],
   "source": [
    "# Number of gamma rays in the top plane per drift time\n",
    "l*w*cavern_gamma*max_drift_time*0.001"
   ]
  },
  {
   "cell_type": "markdown",
   "id": "dd18887f",
   "metadata": {},
   "source": [
    "### Supernova Event Rate\n",
    "\n",
    "- 10kpc supernova and 40kton of LAr, from Table 1 of the DUNE supernova neutrino paper, https://link.springer.com/article/10.1140/epjc/s10052-021-09166-w\n",
    "    - $\\nu_e$-Ar CC: 2648 (Livermore), 3295 (GKVM), 882 (Garching)\n",
    "    - Use 3000 events/40 kton"
   ]
  },
  {
   "cell_type": "code",
   "execution_count": 11,
   "id": "9cb82e0d",
   "metadata": {},
   "outputs": [
    {
     "name": "stdout",
     "output_type": "stream",
     "text": [
      "548.87625\n"
     ]
    }
   ],
   "source": [
    "# Supernova neutrino rate in the top module\n",
    "SN_nue_Ar_CC_40kton = 3000\n",
    "LArTop = l*w*max_d*100*densityLAr/1e6\n",
    "# print( LArTop )\n",
    "SN_nue_Ar_CC_top = SN_nue_Ar_CC_40kton*LArTop/40e3\n",
    "print( SN_nue_Ar_CC_top )"
   ]
  },
  {
   "cell_type": "code",
   "execution_count": 12,
   "id": "b5031475",
   "metadata": {},
   "outputs": [
    {
     "data": {
      "text/plain": [
       "22.29809765625"
      ]
     },
     "execution_count": 12,
     "metadata": {},
     "output_type": "execute_result"
    }
   ],
   "source": [
    "# An average scenario: all those supernova neutrinos arrive within 100ms, how many SN neutrinos in a drift time\n",
    "SN_nue_Ar_CC_top*max_drift_time/100"
   ]
  },
  {
   "cell_type": "code",
   "execution_count": null,
   "id": "19077df2",
   "metadata": {},
   "outputs": [],
   "source": []
  }
 ],
 "metadata": {
  "kernelspec": {
   "display_name": "Python 3 (ipykernel)",
   "language": "python",
   "name": "python3"
  },
  "language_info": {
   "codemirror_mode": {
    "name": "ipython",
    "version": 3
   },
   "file_extension": ".py",
   "mimetype": "text/x-python",
   "name": "python",
   "nbconvert_exporter": "python",
   "pygments_lexer": "ipython3",
   "version": "3.11.5"
  }
 },
 "nbformat": 4,
 "nbformat_minor": 5
}
