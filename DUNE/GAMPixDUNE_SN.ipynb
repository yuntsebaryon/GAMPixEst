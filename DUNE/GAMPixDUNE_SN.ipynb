{
 "cells": [
  {
   "cell_type": "markdown",
   "id": "1b4172f6",
   "metadata": {},
   "source": [
    "### Supernova Neutrinos: 2024.1.10-2.2"
   ]
  },
  {
   "cell_type": "markdown",
   "id": "38d4a2a1",
   "metadata": {},
   "source": [
    "- Cavern backgrounds (Reichenbacher, NPN 2023, https://indico.slac.stanford.edu/event/7400/contributions/6432/attachments/3156/8655/Backgrounds_SNBnuDetection_CCSNe_workshop_NPN_SLAC_12July2023_JR.pdf), which will extend up to 2.6 MeV.\n",
    "    - Dominated by cavern gammas\n",
    "    - Cavern gammas: 1.0510/cm^2s at LAr (slide 22)\n",
    "- Check the density of the \"blips\"? and the energy distribution - see how easily the three planes of strips can match them correctly, see how confusing they are with the gamma background (starting with the dominant background)\n",
    "- DUNE FD vertical drift (VD) module, or module 2: Refer to the TDR:\n",
    "    - Dimemsion:\n",
    "        - Active volume: 60.0 × 13.5 × 13.0 m^3 ~ 15 kton\n",
    "        \n",
    "    - Charge readout: (Table 3.3 in TDR)\n",
    "        - Charge readout unit dimension: 3mx1.7m (two readout electronics, so the strip length should be referred to the strip length dimension below)\n",
    "        - Two induction planes, one collection plane\n",
    "        - Strip length: up to 1.74m (induction), 1.68m (collection)\n",
    "        - Strip pitch: 7.65mm (induction), 5.1 (collection)\n",
    "        - Strip gap: 0.5mm\n",
    "        - Total capacitance: up to 177pF (induction), 135pF (collection)\n",
    "    - TPC: (5.1)\n",
    "        - Maximum drift distance: 6.5m\n",
    "        - Nominal E field: 450V/cm\n",
    "        - Using E field = 500V/cm, drift velocity = 1.6 mm/µs => maximum drift time = 4.06 ms\n",
    "    - LAr properties\n",
    "        - e lifetime: many tens of ms (2-3 ms at least)"
   ]
  },
  {
   "cell_type": "code",
   "execution_count": 2,
   "id": "fcfe4d72",
   "metadata": {},
   "outputs": [
    {
     "data": {
      "text/plain": [
       "4.0625"
      ]
     },
     "execution_count": 2,
     "metadata": {},
     "output_type": "execute_result"
    }
   ],
   "source": [
    "6.5/1.6"
   ]
  },
  {
   "cell_type": "code",
   "execution_count": 5,
   "id": "6b40856a",
   "metadata": {},
   "outputs": [
    {
     "data": {
      "text/plain": [
       "8.996400000000001"
      ]
     },
     "execution_count": 5,
     "metadata": {},
     "output_type": "execute_result"
    }
   ],
   "source": [
    "# Numbers of gamma rays per collection strip per 0.1s\n",
    "168*0.51*1.05*0.1"
   ]
  },
  {
   "cell_type": "code",
   "execution_count": 6,
   "id": "9f44289e",
   "metadata": {},
   "outputs": [
    {
     "data": {
      "text/plain": [
       "0.36525384000000005"
      ]
     },
     "execution_count": 6,
     "metadata": {},
     "output_type": "execute_result"
    }
   ],
   "source": [
    "# Numbers of gamma rays per collection strip per drift time\n",
    "168*0.51*1.05*0.00406"
   ]
  },
  {
   "cell_type": "code",
   "execution_count": null,
   "id": "427d8217",
   "metadata": {},
   "outputs": [],
   "source": []
  }
 ],
 "metadata": {
  "kernelspec": {
   "display_name": "Python 3 (ipykernel)",
   "language": "python",
   "name": "python3"
  },
  "language_info": {
   "codemirror_mode": {
    "name": "ipython",
    "version": 3
   },
   "file_extension": ".py",
   "mimetype": "text/x-python",
   "name": "python",
   "nbconvert_exporter": "python",
   "pygments_lexer": "ipython3",
   "version": "3.11.5"
  }
 },
 "nbformat": 4,
 "nbformat_minor": 5
}
